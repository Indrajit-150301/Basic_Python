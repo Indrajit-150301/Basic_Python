{
 "cells": [
  {
   "cell_type": "code",
   "execution_count": 3,
   "id": "4956675c",
   "metadata": {},
   "outputs": [
    {
     "name": "stdout",
     "output_type": "stream",
     "text": [
      "Enter a number: 5\n",
      "The factorial of 5 is 120\n"
     ]
    }
   ],
   "source": [
    "# factorial program\n",
    "def factorial(n):\n",
    "    if n == 0:\n",
    "        return 1\n",
    "    else:\n",
    "        return n * factorial(n - 1)\n",
    "\n",
    "# Test the factorial function\n",
    "num = int(input(\"Enter a number: \"))\n",
    "result = factorial(num)\n",
    "print(\"The factorial of\", num, \"is\", result)\n"
   ]
  },
  {
   "cell_type": "code",
   "execution_count": 4,
   "id": "b0b0c9ad",
   "metadata": {},
   "outputs": [
    {
     "name": "stdout",
     "output_type": "stream",
     "text": [
      "Enter a word: hello\n",
      "The word is not a palindrome.\n"
     ]
    }
   ],
   "source": [
    "#palidrome\n",
    "def is_palindrome(word):\n",
    "    # Remove any spaces and convert to lowercase\n",
    "    word = word.replace(\" \", \"\").lower()\n",
    "    \n",
    "    # Check if the word is equal to its reverse\n",
    "    if word == word[::-1]:\n",
    "        return True\n",
    "    else:\n",
    "        return False\n",
    "\n",
    "# Test the palindrome function\n",
    "word = input(\"Enter a word: \")\n",
    "if is_palindrome(word):\n",
    "    print(\"The word is a palindrome.\")\n",
    "else:\n",
    "    print(\"The word is not a palindrome.\")\n"
   ]
  },
  {
   "cell_type": "code",
   "execution_count": 5,
   "id": "fa34c160",
   "metadata": {},
   "outputs": [
    {
     "name": "stdout",
     "output_type": "stream",
     "text": [
      "Enter the number of terms: 5\n",
      "Fibonacci Series:\n",
      "0 1 1 2 3 "
     ]
    }
   ],
   "source": [
    "#fibonacci\n",
    "def fibonacci(n):\n",
    "    series = []\n",
    "    \n",
    "    # First two terms of Fibonacci series\n",
    "    a, b = 0, 1\n",
    "    \n",
    "    # Generate Fibonacci series up to n terms\n",
    "    for _ in range(n):\n",
    "        series.append(a)\n",
    "        a, b = b, a + b\n",
    "    \n",
    "    return series\n",
    "\n",
    "# Test the fibonacci function\n",
    "num_terms = int(input(\"Enter the number of terms: \"))\n",
    "fib_series = fibonacci(num_terms)\n",
    "\n",
    "print(\"Fibonacci Series:\")\n",
    "for term in fib_series:\n",
    "    print(term, end=\" \")\n"
   ]
  },
  {
   "cell_type": "code",
   "execution_count": 6,
   "id": "cbda7f73",
   "metadata": {},
   "outputs": [
    {
     "name": "stdout",
     "output_type": "stream",
     "text": [
      "Enter a number: 153\n",
      "153 is an Armstrong number.\n"
     ]
    }
   ],
   "source": [
    "#armstrong\n",
    "def is_armstrong_number(num):\n",
    "    # Convert the number to a string to determine its length\n",
    "    num_str = str(num)\n",
    "    num_digits = len(num_str)\n",
    "    \n",
    "    # Calculate the sum of the digits raised to the power of the number of digits\n",
    "    sum_of_digits = sum(int(digit) ** num_digits for digit in num_str)\n",
    "    \n",
    "    # Check if the sum is equal to the original number\n",
    "    if sum_of_digits == num:\n",
    "        return True\n",
    "    else:\n",
    "        return False\n",
    "\n",
    "# Test the is_armstrong_number function\n",
    "num = int(input(\"Enter a number: \"))\n",
    "\n",
    "if is_armstrong_number(num):\n",
    "    print(num, \"is an Armstrong number.\")\n",
    "else:\n",
    "    print(num, \"is not an Armstrong number.\")\n"
   ]
  },
  {
   "cell_type": "code",
   "execution_count": 7,
   "id": "df8c5668",
   "metadata": {},
   "outputs": [
    {
     "name": "stdout",
     "output_type": "stream",
     "text": [
      "Enter the number of rows: 9\n",
      "        *\n",
      "       ***\n",
      "      *****\n",
      "     *******\n",
      "    *********\n",
      "   ***********\n",
      "  *************\n",
      " ***************\n",
      "*****************\n"
     ]
    }
   ],
   "source": [
    "# make pyramid using star\n",
    "def create_pyramid(rows):\n",
    "    for i in range(rows):\n",
    "        print(\" \" * (rows - i - 1) + \"*\" * (2 * i + 1))\n",
    "\n",
    "# Test the create_pyramid function\n",
    "rows = int(input(\"Enter the number of rows: \"))\n",
    "create_pyramid(rows)\n"
   ]
  },
  {
   "cell_type": "code",
   "execution_count": null,
   "id": "35de013d",
   "metadata": {},
   "outputs": [],
   "source": []
  }
 ],
 "metadata": {
  "kernelspec": {
   "display_name": "Python 3 (ipykernel)",
   "language": "python",
   "name": "python3"
  },
  "language_info": {
   "codemirror_mode": {
    "name": "ipython",
    "version": 3
   },
   "file_extension": ".py",
   "mimetype": "text/x-python",
   "name": "python",
   "nbconvert_exporter": "python",
   "pygments_lexer": "ipython3",
   "version": "3.11.2"
  }
 },
 "nbformat": 4,
 "nbformat_minor": 5
}
