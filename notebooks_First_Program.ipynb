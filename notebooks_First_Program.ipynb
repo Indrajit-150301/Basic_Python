{
  "metadata": {
    "language_info": {
      "codemirror_mode": {
        "name": "python",
        "version": 3
      },
      "file_extension": ".py",
      "mimetype": "text/x-python",
      "name": "python",
      "nbconvert_exporter": "python",
      "pygments_lexer": "ipython3",
      "version": "3.8"
    },
    "kernelspec": {
      "name": "python",
      "display_name": "Python (Pyodide)",
      "language": "python"
    }
  },
  "nbformat_minor": 4,
  "nbformat": 4,
  "cells": [
    {
      "cell_type": "code",
      "source": "import pandas as pd\n \n# Assign data\ndata = {'Name': ['Jai', 'Princi', 'Gaurav',\n                 'Anuj', 'Ravi', 'Natasha', 'Riya'],\n        'Age': [17, 17, 18, 17, 18, 17, 17],\n        'Gender': ['M', 'F', 'M', 'M', 'M', 'F', 'F'],\n        'Marks': [90, 76, 'NaN', 74, 65, 'NaN', 71]}\n \n# Convert into DataFrame\ndf = pd.DataFrame(data)\n \n# Display data\ndf",
      "metadata": {
        "trusted": true
      },
      "execution_count": 1,
      "outputs": [
        {
          "execution_count": 1,
          "output_type": "execute_result",
          "data": {
            "text/plain": "      Name  Age Gender Marks\n0      Jai   17      M    90\n1   Princi   17      F    76\n2   Gaurav   18      M   NaN\n3     Anuj   17      M    74\n4     Ravi   18      M    65\n5  Natasha   17      F   NaN\n6     Riya   17      F    71",
            "text/html": "<div>\n<style scoped>\n    .dataframe tbody tr th:only-of-type {\n        vertical-align: middle;\n    }\n\n    .dataframe tbody tr th {\n        vertical-align: top;\n    }\n\n    .dataframe thead th {\n        text-align: right;\n    }\n</style>\n<table border=\"1\" class=\"dataframe\">\n  <thead>\n    <tr style=\"text-align: right;\">\n      <th></th>\n      <th>Name</th>\n      <th>Age</th>\n      <th>Gender</th>\n      <th>Marks</th>\n    </tr>\n  </thead>\n  <tbody>\n    <tr>\n      <th>0</th>\n      <td>Jai</td>\n      <td>17</td>\n      <td>M</td>\n      <td>90</td>\n    </tr>\n    <tr>\n      <th>1</th>\n      <td>Princi</td>\n      <td>17</td>\n      <td>F</td>\n      <td>76</td>\n    </tr>\n    <tr>\n      <th>2</th>\n      <td>Gaurav</td>\n      <td>18</td>\n      <td>M</td>\n      <td>NaN</td>\n    </tr>\n    <tr>\n      <th>3</th>\n      <td>Anuj</td>\n      <td>17</td>\n      <td>M</td>\n      <td>74</td>\n    </tr>\n    <tr>\n      <th>4</th>\n      <td>Ravi</td>\n      <td>18</td>\n      <td>M</td>\n      <td>65</td>\n    </tr>\n    <tr>\n      <th>5</th>\n      <td>Natasha</td>\n      <td>17</td>\n      <td>F</td>\n      <td>NaN</td>\n    </tr>\n    <tr>\n      <th>6</th>\n      <td>Riya</td>\n      <td>17</td>\n      <td>F</td>\n      <td>71</td>\n    </tr>\n  </tbody>\n</table>\n</div>"
          },
          "metadata": {}
        }
      ]
    },
    {
      "cell_type": "code",
      "source": "",
      "metadata": {},
      "execution_count": null,
      "outputs": []
    },
    {
      "cell_type": "code",
      "source": "",
      "metadata": {},
      "execution_count": null,
      "outputs": []
    },
    {
      "cell_type": "code",
      "source": "# Dealing with missing values\n# Compute average\nc = avg = 0\nfor ele in df['Marks']:\n    if str(ele).isnumeric():\n        c += 1\n        avg += ele\navg /= c\n\n# Replace missing values\ndf = df.replace(to_replace=\"NaN\",\n                value=avg)\n \n# Display data\ndf",
      "metadata": {
        "trusted": true
      },
      "execution_count": 2,
      "outputs": [
        {
          "execution_count": 2,
          "output_type": "execute_result",
          "data": {
            "text/plain": "      Name  Age Gender  Marks\n0      Jai   17      M   90.0\n1   Princi   17      F   76.0\n2   Gaurav   18      M   75.2\n3     Anuj   17      M   74.0\n4     Ravi   18      M   65.0\n5  Natasha   17      F   75.2\n6     Riya   17      F   71.0",
            "text/html": "<div>\n<style scoped>\n    .dataframe tbody tr th:only-of-type {\n        vertical-align: middle;\n    }\n\n    .dataframe tbody tr th {\n        vertical-align: top;\n    }\n\n    .dataframe thead th {\n        text-align: right;\n    }\n</style>\n<table border=\"1\" class=\"dataframe\">\n  <thead>\n    <tr style=\"text-align: right;\">\n      <th></th>\n      <th>Name</th>\n      <th>Age</th>\n      <th>Gender</th>\n      <th>Marks</th>\n    </tr>\n  </thead>\n  <tbody>\n    <tr>\n      <th>0</th>\n      <td>Jai</td>\n      <td>17</td>\n      <td>M</td>\n      <td>90.0</td>\n    </tr>\n    <tr>\n      <th>1</th>\n      <td>Princi</td>\n      <td>17</td>\n      <td>F</td>\n      <td>76.0</td>\n    </tr>\n    <tr>\n      <th>2</th>\n      <td>Gaurav</td>\n      <td>18</td>\n      <td>M</td>\n      <td>75.2</td>\n    </tr>\n    <tr>\n      <th>3</th>\n      <td>Anuj</td>\n      <td>17</td>\n      <td>M</td>\n      <td>74.0</td>\n    </tr>\n    <tr>\n      <th>4</th>\n      <td>Ravi</td>\n      <td>18</td>\n      <td>M</td>\n      <td>65.0</td>\n    </tr>\n    <tr>\n      <th>5</th>\n      <td>Natasha</td>\n      <td>17</td>\n      <td>F</td>\n      <td>75.2</td>\n    </tr>\n    <tr>\n      <th>6</th>\n      <td>Riya</td>\n      <td>17</td>\n      <td>F</td>\n      <td>71.0</td>\n    </tr>\n  </tbody>\n</table>\n</div>"
          },
          "metadata": {}
        }
      ]
    },
    {
      "cell_type": "code",
      "source": "# Data Replacing in Data Wrangling\n# in the GENDER column, we can replace the Gender column data by categorizing them into different numbers.\n\n# Categorize gender\ndf['Gender'] = df['Gender'].map({'M': 0,\n                                 'F': 1, }).astype(float)\n \n# Display data\ndf",
      "metadata": {
        "trusted": true
      },
      "execution_count": 3,
      "outputs": [
        {
          "execution_count": 3,
          "output_type": "execute_result",
          "data": {
            "text/plain": "      Name  Age  Gender  Marks\n0      Jai   17     0.0   90.0\n1   Princi   17     1.0   76.0\n2   Gaurav   18     0.0   75.2\n3     Anuj   17     0.0   74.0\n4     Ravi   18     0.0   65.0\n5  Natasha   17     1.0   75.2\n6     Riya   17     1.0   71.0",
            "text/html": "<div>\n<style scoped>\n    .dataframe tbody tr th:only-of-type {\n        vertical-align: middle;\n    }\n\n    .dataframe tbody tr th {\n        vertical-align: top;\n    }\n\n    .dataframe thead th {\n        text-align: right;\n    }\n</style>\n<table border=\"1\" class=\"dataframe\">\n  <thead>\n    <tr style=\"text-align: right;\">\n      <th></th>\n      <th>Name</th>\n      <th>Age</th>\n      <th>Gender</th>\n      <th>Marks</th>\n    </tr>\n  </thead>\n  <tbody>\n    <tr>\n      <th>0</th>\n      <td>Jai</td>\n      <td>17</td>\n      <td>0.0</td>\n      <td>90.0</td>\n    </tr>\n    <tr>\n      <th>1</th>\n      <td>Princi</td>\n      <td>17</td>\n      <td>1.0</td>\n      <td>76.0</td>\n    </tr>\n    <tr>\n      <th>2</th>\n      <td>Gaurav</td>\n      <td>18</td>\n      <td>0.0</td>\n      <td>75.2</td>\n    </tr>\n    <tr>\n      <th>3</th>\n      <td>Anuj</td>\n      <td>17</td>\n      <td>0.0</td>\n      <td>74.0</td>\n    </tr>\n    <tr>\n      <th>4</th>\n      <td>Ravi</td>\n      <td>18</td>\n      <td>0.0</td>\n      <td>65.0</td>\n    </tr>\n    <tr>\n      <th>5</th>\n      <td>Natasha</td>\n      <td>17</td>\n      <td>1.0</td>\n      <td>75.2</td>\n    </tr>\n    <tr>\n      <th>6</th>\n      <td>Riya</td>\n      <td>17</td>\n      <td>1.0</td>\n      <td>71.0</td>\n    </tr>\n  </tbody>\n</table>\n</div>"
          },
          "metadata": {}
        }
      ]
    },
    {
      "cell_type": "code",
      "source": "# Filter top scoring students\ndf = df[df['Marks'] >= 70].copy()\ndf\n",
      "metadata": {
        "trusted": true
      },
      "execution_count": 5,
      "outputs": [
        {
          "execution_count": 5,
          "output_type": "execute_result",
          "data": {
            "text/plain": "      Name  Age  Gender  Marks\n0      Jai   17     0.0   90.0\n1   Princi   17     1.0   76.0\n2   Gaurav   18     0.0   75.2\n3     Anuj   17     0.0   74.0\n5  Natasha   17     1.0   75.2\n6     Riya   17     1.0   71.0",
            "text/html": "<div>\n<style scoped>\n    .dataframe tbody tr th:only-of-type {\n        vertical-align: middle;\n    }\n\n    .dataframe tbody tr th {\n        vertical-align: top;\n    }\n\n    .dataframe thead th {\n        text-align: right;\n    }\n</style>\n<table border=\"1\" class=\"dataframe\">\n  <thead>\n    <tr style=\"text-align: right;\">\n      <th></th>\n      <th>Name</th>\n      <th>Age</th>\n      <th>Gender</th>\n      <th>Marks</th>\n    </tr>\n  </thead>\n  <tbody>\n    <tr>\n      <th>0</th>\n      <td>Jai</td>\n      <td>17</td>\n      <td>0.0</td>\n      <td>90.0</td>\n    </tr>\n    <tr>\n      <th>1</th>\n      <td>Princi</td>\n      <td>17</td>\n      <td>1.0</td>\n      <td>76.0</td>\n    </tr>\n    <tr>\n      <th>2</th>\n      <td>Gaurav</td>\n      <td>18</td>\n      <td>0.0</td>\n      <td>75.2</td>\n    </tr>\n    <tr>\n      <th>3</th>\n      <td>Anuj</td>\n      <td>17</td>\n      <td>0.0</td>\n      <td>74.0</td>\n    </tr>\n    <tr>\n      <th>5</th>\n      <td>Natasha</td>\n      <td>17</td>\n      <td>1.0</td>\n      <td>75.2</td>\n    </tr>\n    <tr>\n      <th>6</th>\n      <td>Riya</td>\n      <td>17</td>\n      <td>1.0</td>\n      <td>71.0</td>\n    </tr>\n  </tbody>\n</table>\n</div>"
          },
          "metadata": {}
        }
      ]
    },
    {
      "cell_type": "code",
      "source": "\nimport pandas as pd\n\n# creating DataFrame for Student Details\ndetails = pd.DataFrame({\n'ID': [101, 102, 103, 104, 105, 106,\n107, 108, 109, 110],\n'NAME': ['Jagroop', 'Praveen', 'Harjot',\n'Pooja', 'Rahul', 'Nikita',\n'Saurabh', 'Ayush', 'Dolly', \"Mohit\"],\n'BRANCH': ['CSE', 'CSE', 'CSE', 'CSE', 'CSE',\n'CSE', 'CSE', 'CSE', 'CSE', 'CSE']})\n\n# printing details\nprint(details)\n",
      "metadata": {
        "trusted": true
      },
      "execution_count": 6,
      "outputs": [
        {
          "name": "stdout",
          "text": "    ID     NAME BRANCH\n0  101  Jagroop    CSE\n1  102  Praveen    CSE\n2  103   Harjot    CSE\n3  104    Pooja    CSE\n4  105    Rahul    CSE\n5  106   Nikita    CSE\n6  107  Saurabh    CSE\n7  108    Ayush    CSE\n8  109    Dolly    CSE\n9  110    Mohit    CSE\n",
          "output_type": "stream"
        }
      ]
    },
    {
      "cell_type": "code",
      "source": "\nimport pandas as pd\n\n# Creating Dataframe for Fees_Status\nfees_status = pd.DataFrame(\n{'ID': [101, 102, 103, 104, 105,\n106, 107, 108, 109, 110],\n'PENDING': ['5000', '250', 'NIL',\n'9000', '15000', 'NIL',\n'4500', '1800', '250', 'NIL']})\n\n# Printing fees_status\nprint(fees_status)\n",
      "metadata": {
        "trusted": true
      },
      "execution_count": 7,
      "outputs": [
        {
          "name": "stdout",
          "text": "    ID PENDING\n0  101    5000\n1  102     250\n2  103     NIL\n3  104    9000\n4  105   15000\n5  106     NIL\n6  107    4500\n7  108    1800\n8  109     250\n9  110     NIL\n",
          "output_type": "stream"
        }
      ]
    },
    {
      "cell_type": "code",
      "source": "import pandas as pd\n\n#creating Dataframe\ndetails = pd.DataFrame({\n'ID':[101,102,103,104,105,106,107,108,109,110],\n'NAME':['Jagroop','Praveen','Harjot','Pooja','Rahul','Nikita','Saurabh',\n       'Ayush','Dolly','Mohit'],\n'BRANCH':['CSE','CSE','CSE','CSE','CSE','CSE','CSE','CSE','CSE','CSE',]\n})\n\n#Creating Dataframe\nfees_status = pd.DataFrame(\n{'ID':[101,102,103,104,105,106,107,108,109,110],\n 'PENDING':['5000','250','NIL','9000','15000','NIL','4500','1800','250','NIL']\n\n}\n)\n\n#Merging Dataframe\nprint(pd.merge(details,fees_status, on='ID'))",
      "metadata": {
        "trusted": true
      },
      "execution_count": 9,
      "outputs": [
        {
          "name": "stdout",
          "text": "    ID     NAME BRANCH PENDING\n0  101  Jagroop    CSE    5000\n1  102  Praveen    CSE     250\n2  103   Harjot    CSE     NIL\n3  104    Pooja    CSE    9000\n4  105    Rahul    CSE   15000\n5  106   Nikita    CSE     NIL\n6  107  Saurabh    CSE    4500\n7  108    Ayush    CSE    1800\n8  109    Dolly    CSE     250\n9  110    Mohit    CSE     NIL\n",
          "output_type": "stream"
        }
      ]
    },
    {
      "cell_type": "code",
      "source": "\n",
      "metadata": {
        "trusted": true
      },
      "execution_count": null,
      "outputs": []
    },
    {
      "cell_type": "code",
      "source": "",
      "metadata": {},
      "execution_count": null,
      "outputs": []
    }
  ]
}