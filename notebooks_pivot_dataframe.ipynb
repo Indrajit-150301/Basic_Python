{
  "metadata": {
    "toc-autonumbering": true,
    "language_info": {
      "codemirror_mode": {
        "name": "python",
        "version": 3
      },
      "file_extension": ".py",
      "mimetype": "text/x-python",
      "name": "python",
      "nbconvert_exporter": "python",
      "pygments_lexer": "ipython3",
      "version": "3.8"
    },
    "kernelspec": {
      "name": "python",
      "display_name": "Python (Pyodide)",
      "language": "python"
    }
  },
  "nbformat_minor": 4,
  "nbformat": 4,
  "cells": [
    {
      "cell_type": "code",
      "source": "#import pandas library\nimport pandas as pd\n\n#make an array\narray = [2,4,6,8,10,12]\n\n#create a series\nseries_obj =pd.Series(array)\n\n#convert series object into array\narr = series_obj.values\n\narr",
      "metadata": {
        "trusted": true
      },
      "execution_count": 1,
      "outputs": [
        {
          "execution_count": 1,
          "output_type": "execute_result",
          "data": {
            "text/plain": "array([ 2,  4,  6,  8, 10, 12], dtype=int64)"
          },
          "metadata": {}
        }
      ]
    },
    {
      "cell_type": "code",
      "source": "#reshaping series\nreshaped_arr = arr.reshape((3,2))\n\n#show\nreshaped_arr",
      "metadata": {
        "trusted": true
      },
      "execution_count": 5,
      "outputs": [
        {
          "execution_count": 5,
          "output_type": "execute_result",
          "data": {
            "text/plain": "array([[ 2,  4],\n       [ 6,  8],\n       [10, 12]], dtype=int64)"
          },
          "metadata": {}
        }
      ]
    },
    {
      "cell_type": "code",
      "source": "#import pandas library\n\nimport pandas as pd\n\n#make an array\narray = [\"ankit\",\"shauraya\",\"shivangi\",\"priya\",\"jeet\",\"ananya\"]\n\n#create a series\nseries_obj = pd.Series(array)\n\nprint(\"Given Series:\\n\", series_obj)\n\n#convert series object into array\narr = series_obj.values\n\narr\n\n",
      "metadata": {
        "trusted": true
      },
      "execution_count": 7,
      "outputs": [
        {
          "name": "stdout",
          "text": "Given Series:\n 0       ankit\n1    shauraya\n2    shivangi\n3       priya\n4        jeet\n5      ananya\ndtype: object\n",
          "output_type": "stream"
        },
        {
          "execution_count": 7,
          "output_type": "execute_result",
          "data": {
            "text/plain": "array(['ankit', 'shauraya', 'shivangi', 'priya', 'jeet', 'ananya'],\n      dtype=object)"
          },
          "metadata": {}
        }
      ]
    },
    {
      "cell_type": "code",
      "source": "#reshaping series\nreshaped_arr = arr.reshape((2,3))\n\n#show\nprint(\"After Reshaping: \\n\", reshaped_arr)",
      "metadata": {
        "trusted": true
      },
      "execution_count": 11,
      "outputs": [
        {
          "name": "stdout",
          "text": "After Reshaping: \n [['ankit' 'shauraya' 'shivangi']\n ['priya' 'jeet' 'ananya']]\n",
          "output_type": "stream"
        }
      ]
    },
    {
      "cell_type": "code",
      "source": "#create a simple dataframe\n\n#importting pandas as pd\nimport pandas as pd\n\n#creating a dataframe\ndf = pd.DataFrame({'A':['Raghav','Boby','Mina'],\n                  'B':['Masters','Graduate','Graduate'],\n                  'C':[27,23,21]})\n\ndf",
      "metadata": {
        "trusted": true
      },
      "execution_count": 16,
      "outputs": [
        {
          "execution_count": 16,
          "output_type": "execute_result",
          "data": {
            "text/plain": "        A         B   C\n0  Raghav   Masters  27\n1    Boby  Graduate  23\n2    Mina  Graduate  21",
            "text/html": "<div>\n<style scoped>\n    .dataframe tbody tr th:only-of-type {\n        vertical-align: middle;\n    }\n\n    .dataframe tbody tr th {\n        vertical-align: top;\n    }\n\n    .dataframe thead th {\n        text-align: right;\n    }\n</style>\n<table border=\"1\" class=\"dataframe\">\n  <thead>\n    <tr style=\"text-align: right;\">\n      <th></th>\n      <th>A</th>\n      <th>B</th>\n      <th>C</th>\n    </tr>\n  </thead>\n  <tbody>\n    <tr>\n      <th>0</th>\n      <td>Raghav</td>\n      <td>Masters</td>\n      <td>27</td>\n    </tr>\n    <tr>\n      <th>1</th>\n      <td>Boby</td>\n      <td>Graduate</td>\n      <td>23</td>\n    </tr>\n    <tr>\n      <th>2</th>\n      <td>Mina</td>\n      <td>Graduate</td>\n      <td>21</td>\n    </tr>\n  </tbody>\n</table>\n</div>"
          },
          "metadata": {}
        }
      ]
    },
    {
      "cell_type": "code",
      "source": "# values can be an object or a list\ndf.pivot('A', 'B', 'C')",
      "metadata": {
        "trusted": true
      },
      "execution_count": 17,
      "outputs": [
        {
          "name": "stderr",
          "text": "<ipython-input-17-790241475f3a>:2: FutureWarning: In a future version of pandas all arguments of DataFrame.pivot will be keyword-only.\n  df.pivot('A', 'B', 'C')\n",
          "output_type": "stream"
        },
        {
          "execution_count": 17,
          "output_type": "execute_result",
          "data": {
            "text/plain": "B       Graduate  Masters\nA                        \nBoby        23.0      NaN\nMina        21.0      NaN\nRaghav       NaN     27.0",
            "text/html": "<div>\n<style scoped>\n    .dataframe tbody tr th:only-of-type {\n        vertical-align: middle;\n    }\n\n    .dataframe tbody tr th {\n        vertical-align: top;\n    }\n\n    .dataframe thead th {\n        text-align: right;\n    }\n</style>\n<table border=\"1\" class=\"dataframe\">\n  <thead>\n    <tr style=\"text-align: right;\">\n      <th>B</th>\n      <th>Graduate</th>\n      <th>Masters</th>\n    </tr>\n    <tr>\n      <th>A</th>\n      <th></th>\n      <th></th>\n    </tr>\n  </thead>\n  <tbody>\n    <tr>\n      <th>Boby</th>\n      <td>23.0</td>\n      <td>NaN</td>\n    </tr>\n    <tr>\n      <th>Mina</th>\n      <td>21.0</td>\n      <td>NaN</td>\n    </tr>\n    <tr>\n      <th>Raghav</th>\n      <td>NaN</td>\n      <td>27.0</td>\n    </tr>\n  </tbody>\n</table>\n</div>"
          },
          "metadata": {}
        }
      ]
    },
    {
      "cell_type": "code",
      "source": "# value is a list\ndf.pivot(index ='A', columns ='B', values =['C', 'A'])",
      "metadata": {
        "trusted": true
      },
      "execution_count": 22,
      "outputs": [
        {
          "execution_count": 22,
          "output_type": "execute_result",
          "data": {
            "text/plain": "              C                A        \nB      Graduate Masters Graduate Masters\nA                                       \nBoby         23     NaN     Boby     NaN\nMina         21     NaN     Mina     NaN\nRaghav      NaN      27      NaN  Raghav",
            "text/html": "<div>\n<style scoped>\n    .dataframe tbody tr th:only-of-type {\n        vertical-align: middle;\n    }\n\n    .dataframe tbody tr th {\n        vertical-align: top;\n    }\n\n    .dataframe thead tr th {\n        text-align: left;\n    }\n\n    .dataframe thead tr:last-of-type th {\n        text-align: right;\n    }\n</style>\n<table border=\"1\" class=\"dataframe\">\n  <thead>\n    <tr>\n      <th></th>\n      <th colspan=\"2\" halign=\"left\">C</th>\n      <th colspan=\"2\" halign=\"left\">A</th>\n    </tr>\n    <tr>\n      <th>B</th>\n      <th>Graduate</th>\n      <th>Masters</th>\n      <th>Graduate</th>\n      <th>Masters</th>\n    </tr>\n    <tr>\n      <th>A</th>\n      <th></th>\n      <th></th>\n      <th></th>\n      <th></th>\n    </tr>\n  </thead>\n  <tbody>\n    <tr>\n      <th>Boby</th>\n      <td>23</td>\n      <td>NaN</td>\n      <td>Boby</td>\n      <td>NaN</td>\n    </tr>\n    <tr>\n      <th>Mina</th>\n      <td>21</td>\n      <td>NaN</td>\n      <td>Mina</td>\n      <td>NaN</td>\n    </tr>\n    <tr>\n      <th>Raghav</th>\n      <td>NaN</td>\n      <td>27</td>\n      <td>NaN</td>\n      <td>Raghav</td>\n    </tr>\n  </tbody>\n</table>\n</div>"
          },
          "metadata": {}
        }
      ]
    },
    {
      "cell_type": "code",
      "source": "",
      "metadata": {},
      "execution_count": null,
      "outputs": []
    },
    {
      "cell_type": "code",
      "source": "",
      "metadata": {},
      "execution_count": null,
      "outputs": []
    },
    {
      "cell_type": "code",
      "source": "#importing pandas library\nimport pandas as pd\n\n#creating dataframe\ndf =pd.DataFrame({'Name':['Rohit','Sumit','Juli'],\n                 'Gender':['Male','Male','Female'],\n                 'Age':[45,36,23]})\n\nprint(\"Dataset\")\nprint(df)\nprint(\"-\"*40)\n\n#categorizing in age groups\ndef age_bucket(age):\n    if age <= 18:\n        return \"<18\"\n    else:\n        return \">18\"\ndf['Age Group'] = df['Age'].apply(age_bucket)\n\n#calculating gender percenage\ngender = pd.DataFrame(df.Gender.value_counts(normalize=True)*100).reset_index()\ngender.columns = ['Gender','%Gender']\ndf = pd.merge(left=df,right=gender,how='inner',on=['Gender'])\n\n#creating pivot table\ntable=pd.pivot_table(df,index=['Gender','%Gender','Age Group'],\n                    values=['Name'],aggfunc={'Name':'count'})\n#display table\nprint('Table')\nprint(table)",
      "metadata": {
        "trusted": true
      },
      "execution_count": 3,
      "outputs": [
        {
          "name": "stdout",
          "text": "Dataset\n    Name  Gender  Age\n0  Rohit    Male   45\n1  Sumit    Male   36\n2   Juli  Female   23\n----------------------------------------\nTable\n                            Name\nGender %Gender   Age Group      \nFemale 33.333333 >18           1\nMale   66.666667 >18           2\n",
          "output_type": "stream"
        }
      ]
    },
    {
      "cell_type": "code",
      "source": "",
      "metadata": {},
      "execution_count": null,
      "outputs": []
    }
  ]
}