{
  "metadata": {
    "language_info": {
      "codemirror_mode": {
        "name": "python",
        "version": 3
      },
      "file_extension": ".py",
      "mimetype": "text/x-python",
      "name": "python",
      "nbconvert_exporter": "python",
      "pygments_lexer": "ipython3",
      "version": "3.8"
    },
    "kernelspec": {
      "name": "python",
      "display_name": "Python (Pyodide)",
      "language": "python"
    }
  },
  "nbformat_minor": 4,
  "nbformat": 4,
  "cells": [
    {
      "cell_type": "code",
      "source": "#Regular Expression\n\n#\\w - matches a word character\n#\\d - matches digit character\n#\\s - matches whitespace character (space,tab,newline,etc)\n#\\b - matches a zero-length character\n\n#\\A Returns a match if the specified characters are at the beginning of the string\n\nimport re\n\ntxt = \"The rain in spain\"\n\n#Check if the string starts with \"The\":\n\nx=re.findall(\"\\AThe\",txt)\nprint(x)\n\nif x:\n    print(\"Yes, there is a match\")\nelse:\n    print(\"No match\")\n    ",
      "metadata": {
        "trusted": true
      },
      "execution_count": 2,
      "outputs": [
        {
          "name": "stdout",
          "text": "['The']\nYes, there is a match\n",
          "output_type": "stream"
        }
      ]
    },
    {
      "cell_type": "code",
      "source": "match = re.search(r'portal', 'A computer science \\portal for Education')\nprint(match)\nprint(match.group())\n\nprint('Start Index:',match.start())\nprint('End Index:',match.end())",
      "metadata": {
        "trusted": true
      },
      "execution_count": 3,
      "outputs": [
        {
          "name": "stdout",
          "text": "<re.Match object; span=(20, 26), match='portal'>\nportal\nStart Index: 20\nEnd Index: 26\n",
          "output_type": "stream"
        }
      ]
    },
    {
      "cell_type": "code",
      "source": "#[] Represent a character class\n#^ Matches the beginning\n#$ Matches the end\n#. Matches any character except newline\n#| Means OR (Matches with any of the characters separated by it.\n#? Matches zero or one occurrence\n#* Any number of occurrences (including 0 occurrences)\n#+ One or more occurrences\n#{} Indicate the number of occurrences of a preceding RegEx to match.\n#() Enclose a group of RegEx\n\n#Data Mining: Regular expression is the best tool for data mining.\n#It efficiently identifies a text in a heap of text by checking with a\n#pre-defined pattern.\n\n#Some common scenarios are identifying an email, URL, or phone from a\n#pile of text.\n\n#Data Validation: Regular expression can perfectly validate data.\n#It can include a wide array of validation processes by defining\n#different sets of patterns.\n\n#A few examples are validating phone numbers, emails, etc.\n# basic regular expressions. They are as follows:\n\n#Character Classes\n#Rangers\n#Negation\n#Shortcuts\n#Beginning and End of String\n#Any Character\n\n# Character Classes Character classes allow you to match a single set\n#of characters with a possible set of characters.\n# character class is mentioned within the square brackets.An example\n#of case sensitive words. \n\nprint(re.findall(r'[Ee]ducation','Education of education: \\A computer science portal for education'))\n",
      "metadata": {
        "trusted": true
      },
      "execution_count": 4,
      "outputs": [
        {
          "name": "stdout",
          "text": "['Education', 'education', 'education']\n",
          "output_type": "stream"
        }
      ]
    },
    {
      "cell_type": "code",
      "source": "#Ranges\n#The range provide the flexibility to match a text with the help of range pattern\n#such as a range of numbers(0 to 9)\n\nprint('Range',re.search(r'[a-zA-Z]','x'))\n\n",
      "metadata": {
        "trusted": true
      },
      "execution_count": 5,
      "outputs": [
        {
          "name": "stdout",
          "text": "Range <re.Match object; span=(0, 1), match='x'>\n",
          "output_type": "stream"
        }
      ]
    },
    {
      "cell_type": "code",
      "source": "x=range(3,6)\nfor n in x:\n    print(n)",
      "metadata": {
        "trusted": true
      },
      "execution_count": 6,
      "outputs": [
        {
          "name": "stdout",
          "text": "3\n4\n5\n",
          "output_type": "stream"
        }
      ]
    },
    {
      "cell_type": "code",
      "source": "x=range(3,20,2)\nfor n in x:\n    print(n)",
      "metadata": {
        "trusted": true
      },
      "execution_count": 7,
      "outputs": [
        {
          "name": "stdout",
          "text": "3\n5\n7\n9\n11\n13\n15\n17\n19\n",
          "output_type": "stream"
        }
      ]
    },
    {
      "cell_type": "code",
      "source": "#Negation\n#Negation inverts a character class.\n#It will look for a match except for the inverted character or range\n#of inverted characters\n#mentioned in the character class.\n\nprint(re.search(r'[^a-z]','c'))\nNone\nprint(re.search(r'C[^l]','Class'))\nNone\n\n#Beginning and End of String\n#The ^ character chooses the beginning of a string and the $ character\n##chooses the end of a string.\n# Beginning of String\nmatch = re.search(r'^is','This is month')\nprint('Beg. of String :',match)\nmatch = re.search(r'^is', 'is the month')\nprint('Beg. of String:', match)\n# End of String\nmatch = re.search(r'education$', 'Compute science portal for education')\nprint('End of String:', match)",
      "metadata": {
        "trusted": true
      },
      "execution_count": 10,
      "outputs": [
        {
          "name": "stdout",
          "text": "None\nNone\nBeg. of String : None\nBeg. of String: <re.Match object; span=(0, 2), match='is'>\nEnd of String: <re.Match object; span=(27, 36), match='education'>\n",
          "output_type": "stream"
        }
      ]
    },
    {
      "cell_type": "code",
      "source": "#Any Character\n#The . character represents any single character outside a bracketed\n#character class.\nprint('Any Character', re.search(r'p.th.n', 'python 3'))",
      "metadata": {
        "trusted": true
      },
      "execution_count": 12,
      "outputs": [
        {
          "name": "stdout",
          "text": "Any Character <re.Match object; span=(0, 6), match='python'>\n",
          "output_type": "stream"
        }
      ]
    },
    {
      "cell_type": "code",
      "source": "#Some of the other regular expressions are as follows:\n#Optional Characters\n#Repetition\n#Shorthand\n#Grouping\n#Lookahead\n#Substitution\n#Optional Characters\n#Regular expression engine allows you to specify optional characters\n#using the ? character.\n#It allows a character or character class either to present once or\n#else not to occur.\n# example of a word with an alternative spelling – color or colour.#\nprint('Color',re.search(r'colou?r', 'color'))\nprint('Colour',re.search(r'colou?r', 'colour'))",
      "metadata": {
        "trusted": true
      },
      "execution_count": 16,
      "outputs": [
        {
          "name": "stdout",
          "text": "Color <re.Match object; span=(0, 5), match='color'>\nColour <re.Match object; span=(0, 6), match='colour'>\n",
          "output_type": "stream"
        }
      ]
    },
    {
      "cell_type": "code",
      "source": "#Repetition\n#Repetition enables you to repeat the same character or character\n#class.\n#Consider an example of a date that consists of day, month, and year.\n#regular expression to identify the date (mm-dd-yyyy).\nprint('Date{mm-dd-yyyy}:', re.search(r'[\\d]{2}-[\\d]{2}-[\\d]{4}','13-07-2023'))",
      "metadata": {
        "trusted": true
      },
      "execution_count": 19,
      "outputs": [
        {
          "name": "stdout",
          "text": "Date{mm-dd-yyyy}: <re.Match object; span=(0, 10), match='13-07-2023'>\n",
          "output_type": "stream"
        }
      ]
    },
    {
      "cell_type": "code",
      "source": "#Repetition ranges\n#The repetition range is useful when you have to accept one or more\n#formats.\n#Consider a scenario where both three digits, as well as four digits,\n#are accepted. \nprint('Three Digit:', re.search(r'[\\d]{3,4}', '189'))\nprint('Four Digit:', re.search(r'[\\d]{3,4}', '2145'))",
      "metadata": {
        "trusted": true
      },
      "execution_count": 20,
      "outputs": [
        {
          "name": "stdout",
          "text": "Three Digit: <re.Match object; span=(0, 3), match='189'>\nFour Digit: <re.Match object; span=(0, 4), match='2145'>\n",
          "output_type": "stream"
        }
      ]
    },
    {
      "cell_type": "code",
      "source": "#Open-Ended Ranges\n#There are scenarios where there is no limit for a character\n#repetition.\n#In such scenarios, you can set the upper limit as infinitive.\n#A common example is matching street addresses.\nprint(re.search(r'[\\d]{1,}','5th Floor, B-218,\\Sector-136, Noida, Uttar Pradesh - 201405'))",
      "metadata": {
        "trusted": true
      },
      "execution_count": 22,
      "outputs": [
        {
          "name": "stdout",
          "text": "<re.Match object; span=(0, 1), match='5'>\n",
          "output_type": "stream"
        }
      ]
    },
    {
      "cell_type": "code",
      "source": "print(re.search(r'[\\d]+','5th Floor, B-218,\\Sector-136, Noida, Uttar Pradesh - 201405'))",
      "metadata": {
        "trusted": true
      },
      "execution_count": 23,
      "outputs": [
        {
          "name": "stdout",
          "text": "<re.Match object; span=(0, 1), match='5'>\n",
          "output_type": "stream"
        }
      ]
    },
    {
      "cell_type": "code",
      "source": "#Grouping\n#Grouping is the process of separating an expression into groups by\n#using parentheses,\n#and it allows you to fetch each individual matching group.\ngrp = re.search(r'([\\d]{2})-([\\d]{2})-([\\d]{4})', '12-07-2023')\nprint(grp)",
      "metadata": {
        "trusted": true
      },
      "execution_count": 24,
      "outputs": [
        {
          "name": "stdout",
          "text": "<re.Match object; span=(0, 10), match='12-07-2023'>\n",
          "output_type": "stream"
        }
      ]
    },
    {
      "cell_type": "code",
      "source": "#Return a tuple of matched groups\n#You can use groups() method to return a tuple that holds individual\n#matched groups\ngrp = re.search(r'([\\d]{2})-([\\d]{2})-([\\d]{4})','14-07-2023')\nprint(grp.groups())",
      "metadata": {
        "trusted": true
      },
      "execution_count": 25,
      "outputs": [
        {
          "name": "stdout",
          "text": "('14', '07', '2023')\n",
          "output_type": "stream"
        }
      ]
    },
    {
      "cell_type": "code",
      "source": "#Retrieve a single group\n#Upon passing the index to a group method, you can retrieve just a\n#single group.\ngrp = re.search(r'([\\d]{2})-([\\d]{2})-([\\d]{4})','14-07-2023')\nprint(grp.group(3))",
      "metadata": {
        "trusted": true
      },
      "execution_count": 26,
      "outputs": [
        {
          "name": "stdout",
          "text": "2023\n",
          "output_type": "stream"
        }
      ]
    },
    {
      "cell_type": "code",
      "source": "grp = re.search(r'(?P<dd>[\\d]{2})-(?P<mm>[\\d]{2})-(?P<yyyy>[\\d]{4})','14-07-2023')\nprint(grp.group('dd'))",
      "metadata": {
        "trusted": true
      },
      "execution_count": 28,
      "outputs": [
        {
          "name": "stdout",
          "text": "14\n",
          "output_type": "stream"
        }
      ]
    },
    {
      "cell_type": "code",
      "source": "grp = re.search(r'(?P<dd>[\\d]{2})-(?P<mm>[\\d]{2})-(?P<yyyy>[\\d]{4})','14-07-2023')\nprint(grp.groupdict())",
      "metadata": {
        "trusted": true
      },
      "execution_count": 29,
      "outputs": [
        {
          "name": "stdout",
          "text": "{'dd': '14', 'mm': '07', 'yyyy': '2023'}\n",
          "output_type": "stream"
        }
      ]
    },
    {
      "cell_type": "code",
      "source": "#Lookahead\n#In the case of a negated character class,\n#it won’t match if a character is not present to check against the\n#negated character.\n#We can overcome this case by using lookahead; it accepts or rejects a\n#match based on the presence or absence of content.\nprint('negation:', re.search(r'n[^e]', 'Python'))\nprint('lookahead:', re.search(r'n(?!e)', 'Python'))",
      "metadata": {
        "trusted": true
      },
      "execution_count": 31,
      "outputs": [
        {
          "name": "stdout",
          "text": "negation: None\nlookahead: <re.Match object; span=(5, 6), match='n'>\n",
          "output_type": "stream"
        }
      ]
    },
    {
      "cell_type": "code",
      "source": "#Lookahead can also disqualify the match if it is not followed by a\n#particular character.\n#This process is called a positive lookahead, and can be achieved by\n#simply replacing ! character with = character.\nprint('positive lookahead', re.search(r'n(?=e)', 'jasmine'))",
      "metadata": {
        "trusted": true
      },
      "execution_count": 32,
      "outputs": [
        {
          "name": "stdout",
          "text": "positive lookahead <re.Match object; span=(5, 6), match='n'>\n",
          "output_type": "stream"
        }
      ]
    },
    {
      "cell_type": "code",
      "source": "#Substitution\n#The regular expression can replace the string and returns the\n#replaced one using the re.sub method. It is useful when you want to\n#avoid characters such as /, -, ., etc. before storing it to a\n#database. It takes three arguments:\n#the regular expression\n#the replacement string\n#the source string being searched\nprint(re.sub(r'([\\d]{4})-([\\d]{4})-([\\d]{4})-([\\d]{4})',r'\\1\\2\\3\\4','1111-2222-3333-4444'))",
      "metadata": {
        "trusted": true
      },
      "execution_count": 34,
      "outputs": [
        {
          "name": "stdout",
          "text": "1111222233334444\n",
          "output_type": "stream"
        }
      ]
    },
    {
      "cell_type": "code",
      "source": "#Compiled RegEx\n#The Python regular expression engine can return a compiled regular\n#expression(RegEx) object using compile function.\n#This object has its search method and sub-method, where a developer\n#can reuse it when in need.\nregex = re.compile(r'([\\d]{2})-([\\d]{2})-([\\d]{4})')\n\n# search method\nprint('compiled reg expr', regex.search('13-07-2023'))\n\n# sub method\nprint(regex.sub(r'\\1.\\2.\\3', '13-07-2023'))",
      "metadata": {
        "trusted": true
      },
      "execution_count": 35,
      "outputs": [
        {
          "name": "stdout",
          "text": "compiled reg expr <re.Match object; span=(0, 10), match='13-07-2023'>\n13.07.2023\n",
          "output_type": "stream"
        }
      ]
    },
    {
      "cell_type": "code",
      "source": "",
      "metadata": {},
      "execution_count": null,
      "outputs": []
    }
  ]
}